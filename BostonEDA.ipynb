{
 "cells": [
  {
   "cell_type": "code",
   "execution_count": 37,
   "metadata": {},
   "outputs": [],
   "source": [
    "import pandas as pd\n",
    "import matplotlib.pyplot as plt\n",
    "%matplotlib inline\n",
    "\n",
    "df = pd.read_csv('train.csv')"
   ]
  },
  {
   "cell_type": "code",
   "execution_count": 38,
   "metadata": {},
   "outputs": [
    {
     "data": {
      "text/html": [
       "<div>\n",
       "<style scoped>\n",
       "    .dataframe tbody tr th:only-of-type {\n",
       "        vertical-align: middle;\n",
       "    }\n",
       "\n",
       "    .dataframe tbody tr th {\n",
       "        vertical-align: top;\n",
       "    }\n",
       "\n",
       "    .dataframe thead th {\n",
       "        text-align: right;\n",
       "    }\n",
       "</style>\n",
       "<table border=\"1\" class=\"dataframe\">\n",
       "  <thead>\n",
       "    <tr style=\"text-align: right;\">\n",
       "      <th></th>\n",
       "      <th>ID</th>\n",
       "      <th>crim</th>\n",
       "      <th>zn</th>\n",
       "      <th>indus</th>\n",
       "      <th>chas</th>\n",
       "      <th>nox</th>\n",
       "      <th>rm</th>\n",
       "      <th>age</th>\n",
       "      <th>dis</th>\n",
       "      <th>rad</th>\n",
       "      <th>tax</th>\n",
       "      <th>ptratio</th>\n",
       "      <th>b</th>\n",
       "      <th>lstat</th>\n",
       "      <th>medv</th>\n",
       "    </tr>\n",
       "  </thead>\n",
       "  <tbody>\n",
       "    <tr>\n",
       "      <td>0</td>\n",
       "      <td>1</td>\n",
       "      <td>0.00632</td>\n",
       "      <td>18.0</td>\n",
       "      <td>2.31</td>\n",
       "      <td>0</td>\n",
       "      <td>0.538</td>\n",
       "      <td>6.575</td>\n",
       "      <td>65.2</td>\n",
       "      <td>4.0900</td>\n",
       "      <td>1</td>\n",
       "      <td>296</td>\n",
       "      <td>15.3</td>\n",
       "      <td>396.90</td>\n",
       "      <td>4.98</td>\n",
       "      <td>24.0</td>\n",
       "    </tr>\n",
       "    <tr>\n",
       "      <td>1</td>\n",
       "      <td>2</td>\n",
       "      <td>0.02731</td>\n",
       "      <td>0.0</td>\n",
       "      <td>7.07</td>\n",
       "      <td>0</td>\n",
       "      <td>0.469</td>\n",
       "      <td>6.421</td>\n",
       "      <td>78.9</td>\n",
       "      <td>4.9671</td>\n",
       "      <td>2</td>\n",
       "      <td>242</td>\n",
       "      <td>17.8</td>\n",
       "      <td>396.90</td>\n",
       "      <td>9.14</td>\n",
       "      <td>21.6</td>\n",
       "    </tr>\n",
       "    <tr>\n",
       "      <td>2</td>\n",
       "      <td>4</td>\n",
       "      <td>0.03237</td>\n",
       "      <td>0.0</td>\n",
       "      <td>2.18</td>\n",
       "      <td>0</td>\n",
       "      <td>0.458</td>\n",
       "      <td>6.998</td>\n",
       "      <td>45.8</td>\n",
       "      <td>6.0622</td>\n",
       "      <td>3</td>\n",
       "      <td>222</td>\n",
       "      <td>18.7</td>\n",
       "      <td>394.63</td>\n",
       "      <td>2.94</td>\n",
       "      <td>33.4</td>\n",
       "    </tr>\n",
       "    <tr>\n",
       "      <td>3</td>\n",
       "      <td>5</td>\n",
       "      <td>0.06905</td>\n",
       "      <td>0.0</td>\n",
       "      <td>2.18</td>\n",
       "      <td>0</td>\n",
       "      <td>0.458</td>\n",
       "      <td>7.147</td>\n",
       "      <td>54.2</td>\n",
       "      <td>6.0622</td>\n",
       "      <td>3</td>\n",
       "      <td>222</td>\n",
       "      <td>18.7</td>\n",
       "      <td>396.90</td>\n",
       "      <td>5.33</td>\n",
       "      <td>36.2</td>\n",
       "    </tr>\n",
       "    <tr>\n",
       "      <td>4</td>\n",
       "      <td>7</td>\n",
       "      <td>0.08829</td>\n",
       "      <td>12.5</td>\n",
       "      <td>7.87</td>\n",
       "      <td>0</td>\n",
       "      <td>0.524</td>\n",
       "      <td>6.012</td>\n",
       "      <td>66.6</td>\n",
       "      <td>5.5605</td>\n",
       "      <td>5</td>\n",
       "      <td>311</td>\n",
       "      <td>15.2</td>\n",
       "      <td>395.60</td>\n",
       "      <td>12.43</td>\n",
       "      <td>22.9</td>\n",
       "    </tr>\n",
       "  </tbody>\n",
       "</table>\n",
       "</div>"
      ],
      "text/plain": [
       "   ID     crim    zn  indus  chas    nox     rm   age     dis  rad  tax  \\\n",
       "0   1  0.00632  18.0   2.31     0  0.538  6.575  65.2  4.0900    1  296   \n",
       "1   2  0.02731   0.0   7.07     0  0.469  6.421  78.9  4.9671    2  242   \n",
       "2   4  0.03237   0.0   2.18     0  0.458  6.998  45.8  6.0622    3  222   \n",
       "3   5  0.06905   0.0   2.18     0  0.458  7.147  54.2  6.0622    3  222   \n",
       "4   7  0.08829  12.5   7.87     0  0.524  6.012  66.6  5.5605    5  311   \n",
       "\n",
       "   ptratio       b  lstat  medv  \n",
       "0     15.3  396.90   4.98  24.0  \n",
       "1     17.8  396.90   9.14  21.6  \n",
       "2     18.7  394.63   2.94  33.4  \n",
       "3     18.7  396.90   5.33  36.2  \n",
       "4     15.2  395.60  12.43  22.9  "
      ]
     },
     "execution_count": 38,
     "metadata": {},
     "output_type": "execute_result"
    }
   ],
   "source": [
    "df.head()"
   ]
  },
  {
   "cell_type": "code",
   "execution_count": 39,
   "metadata": {},
   "outputs": [
    {
     "name": "stdout",
     "output_type": "stream",
     "text": [
      "3.360341471471471\n",
      "0.26169000000000003\n",
      "0    0.01501\n",
      "dtype: float64\n",
      "7.3522718367811075\n",
      "54.05590116192464\n"
     ]
    }
   ],
   "source": [
    "print(df['crim'].mean())\n",
    "print(df['crim'].median())\n",
    "print(df['crim'].mode())\n",
    "print(df['crim'].std())\n",
    "print(df['crim'].var())"
   ]
  },
  {
   "cell_type": "code",
   "execution_count": 40,
   "metadata": {},
   "outputs": [
    {
     "name": "stdout",
     "output_type": "stream",
     "text": [
      "68.22642642642641\n",
      "76.7\n",
      "0    100.0\n",
      "dtype: float64\n",
      "28.13334360562339\n",
      "791.4850224320707\n"
     ]
    }
   ],
   "source": [
    "print(df['age'].mean())\n",
    "print(df['age'].median())\n",
    "print(df['age'].mode())\n",
    "print(df['age'].std())\n",
    "print(df['age'].var())"
   ]
  },
  {
   "cell_type": "code",
   "execution_count": 41,
   "metadata": {},
   "outputs": [
    {
     "name": "stdout",
     "output_type": "stream",
     "text": [
      "6.265618618618618\n",
      "6.202000000000001\n",
      "0    6.127\n",
      "1    6.229\n",
      "dtype: float64\n",
      "0.7039515757334479\n",
      "0.4955478209776042\n"
     ]
    },
    {
     "data": {
      "text/html": [
       "<div>\n",
       "<style scoped>\n",
       "    .dataframe tbody tr th:only-of-type {\n",
       "        vertical-align: middle;\n",
       "    }\n",
       "\n",
       "    .dataframe tbody tr th {\n",
       "        vertical-align: top;\n",
       "    }\n",
       "\n",
       "    .dataframe thead th {\n",
       "        text-align: right;\n",
       "    }\n",
       "</style>\n",
       "<table border=\"1\" class=\"dataframe\">\n",
       "  <thead>\n",
       "    <tr style=\"text-align: right;\">\n",
       "      <th></th>\n",
       "      <th>ID</th>\n",
       "      <th>crim</th>\n",
       "      <th>zn</th>\n",
       "      <th>indus</th>\n",
       "      <th>chas</th>\n",
       "      <th>nox</th>\n",
       "      <th>rm</th>\n",
       "      <th>age</th>\n",
       "      <th>dis</th>\n",
       "      <th>rad</th>\n",
       "      <th>tax</th>\n",
       "      <th>ptratio</th>\n",
       "      <th>b</th>\n",
       "      <th>lstat</th>\n",
       "      <th>medv</th>\n",
       "    </tr>\n",
       "  </thead>\n",
       "  <tbody>\n",
       "    <tr>\n",
       "      <td>0</td>\n",
       "      <td>1</td>\n",
       "      <td>0.00632</td>\n",
       "      <td>18.0</td>\n",
       "      <td>2.31</td>\n",
       "      <td>0</td>\n",
       "      <td>0.538</td>\n",
       "      <td>6.575</td>\n",
       "      <td>65.2</td>\n",
       "      <td>4.0900</td>\n",
       "      <td>1</td>\n",
       "      <td>296</td>\n",
       "      <td>15.3</td>\n",
       "      <td>396.90</td>\n",
       "      <td>4.98</td>\n",
       "      <td>24.0</td>\n",
       "    </tr>\n",
       "    <tr>\n",
       "      <td>1</td>\n",
       "      <td>2</td>\n",
       "      <td>0.02731</td>\n",
       "      <td>0.0</td>\n",
       "      <td>7.07</td>\n",
       "      <td>0</td>\n",
       "      <td>0.469</td>\n",
       "      <td>6.421</td>\n",
       "      <td>78.9</td>\n",
       "      <td>4.9671</td>\n",
       "      <td>2</td>\n",
       "      <td>242</td>\n",
       "      <td>17.8</td>\n",
       "      <td>396.90</td>\n",
       "      <td>9.14</td>\n",
       "      <td>21.6</td>\n",
       "    </tr>\n",
       "    <tr>\n",
       "      <td>2</td>\n",
       "      <td>4</td>\n",
       "      <td>0.03237</td>\n",
       "      <td>0.0</td>\n",
       "      <td>2.18</td>\n",
       "      <td>0</td>\n",
       "      <td>0.458</td>\n",
       "      <td>6.998</td>\n",
       "      <td>45.8</td>\n",
       "      <td>6.0622</td>\n",
       "      <td>3</td>\n",
       "      <td>222</td>\n",
       "      <td>18.7</td>\n",
       "      <td>394.63</td>\n",
       "      <td>2.94</td>\n",
       "      <td>33.4</td>\n",
       "    </tr>\n",
       "    <tr>\n",
       "      <td>3</td>\n",
       "      <td>5</td>\n",
       "      <td>0.06905</td>\n",
       "      <td>0.0</td>\n",
       "      <td>2.18</td>\n",
       "      <td>0</td>\n",
       "      <td>0.458</td>\n",
       "      <td>7.147</td>\n",
       "      <td>54.2</td>\n",
       "      <td>6.0622</td>\n",
       "      <td>3</td>\n",
       "      <td>222</td>\n",
       "      <td>18.7</td>\n",
       "      <td>396.90</td>\n",
       "      <td>5.33</td>\n",
       "      <td>36.2</td>\n",
       "    </tr>\n",
       "    <tr>\n",
       "      <td>4</td>\n",
       "      <td>7</td>\n",
       "      <td>0.08829</td>\n",
       "      <td>12.5</td>\n",
       "      <td>7.87</td>\n",
       "      <td>0</td>\n",
       "      <td>0.524</td>\n",
       "      <td>6.012</td>\n",
       "      <td>66.6</td>\n",
       "      <td>5.5605</td>\n",
       "      <td>5</td>\n",
       "      <td>311</td>\n",
       "      <td>15.2</td>\n",
       "      <td>395.60</td>\n",
       "      <td>12.43</td>\n",
       "      <td>22.9</td>\n",
       "    </tr>\n",
       "  </tbody>\n",
       "</table>\n",
       "</div>"
      ],
      "text/plain": [
       "   ID     crim    zn  indus  chas    nox     rm   age     dis  rad  tax  \\\n",
       "0   1  0.00632  18.0   2.31     0  0.538  6.575  65.2  4.0900    1  296   \n",
       "1   2  0.02731   0.0   7.07     0  0.469  6.421  78.9  4.9671    2  242   \n",
       "2   4  0.03237   0.0   2.18     0  0.458  6.998  45.8  6.0622    3  222   \n",
       "3   5  0.06905   0.0   2.18     0  0.458  7.147  54.2  6.0622    3  222   \n",
       "4   7  0.08829  12.5   7.87     0  0.524  6.012  66.6  5.5605    5  311   \n",
       "\n",
       "   ptratio       b  lstat  medv  \n",
       "0     15.3  396.90   4.98  24.0  \n",
       "1     17.8  396.90   9.14  21.6  \n",
       "2     18.7  394.63   2.94  33.4  \n",
       "3     18.7  396.90   5.33  36.2  \n",
       "4     15.2  395.60  12.43  22.9  "
      ]
     },
     "execution_count": 41,
     "metadata": {},
     "output_type": "execute_result"
    }
   ],
   "source": [
    "print(df['rm'].mean())\n",
    "print(df['rm'].median())\n",
    "print(df['rm'].mode())\n",
    "print(df['rm'].std())\n",
    "print(df['rm'].var())\n",
    "\n",
    "df.head()"
   ]
  },
  {
   "cell_type": "markdown",
   "metadata": {},
   "source": [
    "There may exist a relation between nox emissions and median value of owner occupied home against high amounts of crime and low amounts of crime. High amount of crime is defined as crime rates above and including the median where low crime is defined as the remainder."
   ]
  },
  {
   "cell_type": "code",
   "execution_count": 68,
   "metadata": {},
   "outputs": [
    {
     "name": "stdout",
     "output_type": "stream",
     "text": [
      "Nox\n",
      "High Crime Mean: 0.6387005988023944\n",
      "High Crime Std: 0.0987706675014168\n",
      "Low Crime Mean: 0.4750963855421679\n",
      "Low Crime Std: 0.0571819169250223\n",
      "\n",
      "Median home value (in $10000s):\n",
      "High Crime Mean: 20.646107784431134\n",
      "High Crime Std: 10.396655790535089\n",
      "Low Crime Mean: 24.904216867469867\n",
      "Low Crime Std: 7.171571421642107\n"
     ]
    },
    {
     "data": {
      "text/plain": [
       "<matplotlib.axes._subplots.AxesSubplot at 0x123db8410>"
      ]
     },
     "execution_count": 68,
     "metadata": {},
     "output_type": "execute_result"
    },
    {
     "data": {
      "image/png": "[encoded data removed]",
      "text/plain": [
       "<Figure size 432x288 with 1 Axes>"
      ]
     },
     "metadata": {
      "needs_background": "light"
     },
     "output_type": "display_data"
    },
    {
     "data": {
      "image/png": "[encoded data removed]",
      "text/plain": [
       "<Figure size 432x288 with 1 Axes>"
      ]
     },
     "metadata": {
      "needs_background": "light"
     },
     "output_type": "display_data"
    }
   ],
   "source": [
    "crim_med = df['crim'].median()\n",
    "\n",
    "df_high_crime = df.loc[df['crim'] >= crim_med, ['nox', 'medv']].copy()\n",
    "df_low_crime = df.loc[df['crim'] < crim_med, ['nox', 'medv']].copy()\n",
    "\n",
    "# Nox\n",
    "print('Nox')\n",
    "print('High Crime Mean:', df_high_crime['nox'].mean())\n",
    "print('High Crime Std:',df_high_crime['nox'].std())\n",
    "print('Low Crime Mean:',df_low_crime['nox'].mean())\n",
    "print('Low Crime Std:',df_low_crime['nox'].std())\n",
    "\n",
    "print()\n",
    "\n",
    "# Median home value\n",
    "print('Median home value (in $10000s):')\n",
    "print('High Crime Mean:', df_high_crime['medv'].mean())\n",
    "print('High Crime Std:',df_high_crime['medv'].std())\n",
    "print('Low Crime Mean:',df_low_crime['medv'].mean())\n",
    "print('Low Crime Std:',df_low_crime['medv'].std())\n",
    "\n",
    "plt.figure()\n",
    "df_high_crime['nox'].plot.hist(alpha=0.7, color='red', title = 'nox concentrations for low crime (green) and high crime (red)')\n",
    "df_low_crime['nox'].plot.hist(alpha=0.7, color='green')\n",
    "\n",
    "plt.figure()\n",
    "df_high_crime['medv'].plot.hist(alpha=0.7, color = 'red', title = 'medium home value for low crime (green) and high crime (red)')\n",
    "df_low_crime['medv'].plot.hist(alpha=0.7, color = 'green')"
   ]
  },
  {
   "cell_type": "markdown",
   "metadata": {},
   "source": [
    "There may exist a relationship between the mean of distances to five Boston employment centers and the medium and per capita crime rate by town and the median home value. "
   ]
  },
  {
   "cell_type": "code",
   "execution_count": 69,
   "metadata": {},
   "outputs": [
    {
     "name": "stdout",
     "output_type": "stream",
     "text": [
      "Crime\n",
      "High Distance Mean: 0.38234880239520935\n",
      "High Distance Std: 0.9423924502618881\n",
      "Low Distance Mean: 6.356273855421685\n",
      "Low Distance Std: 9.479852019836255\n",
      "\n",
      "Median home value (in $10000s):\n",
      "High Distance Mean: 25.228742514970065\n",
      "High Distance Std: 7.324616868111763\n",
      "Low Distance Mean: 20.29397590361446\n",
      "Low Distance Std: 10.152012481755476\n"
     ]
    },
    {
     "data": {
      "text/plain": [
       "<matplotlib.axes._subplots.AxesSubplot at 0x123c96350>"
      ]
     },
     "execution_count": 69,
     "metadata": {},
     "output_type": "execute_result"
    },
    {
     "data": {
      "text/plain": [
       "<Figure size 432x288 with 0 Axes>"
      ]
     },
     "metadata": {},
     "output_type": "display_data"
    },
    {
     "data": {
      "image/png": "[encoded data removed]",
      "text/plain": [
       "<Figure size 432x288 with 1 Axes>"
      ]
     },
     "metadata": {
      "needs_background": "light"
     },
     "output_type": "display_data"
    }
   ],
   "source": [
    "dis_med = df['dis'].median()\n",
    "\n",
    "df_high_dis = df.loc[df['dis'] >= dis_med, ['crim', 'medv']].copy()\n",
    "df_low_dis = df.loc[df['dis'] < dis_med, ['crim', 'medv']].copy()\n",
    "\n",
    "# Nox\n",
    "print('Crime')\n",
    "print('High Distance Mean:', df_high_dis['crim'].mean())\n",
    "print('High Distance Std:',df_high_dis['crim'].std())\n",
    "print('Low Distance Mean:',df_low_dis['crim'].mean())\n",
    "print('Low Distance Std:',df_low_dis['crim'].std())\n",
    "\n",
    "print()\n",
    "\n",
    "# Median home value\n",
    "print('Median home value (in $10000s):')\n",
    "print('High Distance Mean:', df_high_dis['medv'].mean())\n",
    "print('High Distance Std:',df_high_dis['medv'].std())\n",
    "print('Low Distance Mean:',df_low_dis['medv'].mean())\n",
    "print('Low Distance Std:',df_low_dis['medv'].std())\n",
    "\n",
    "\n",
    "\n",
    "plt.figure()\n",
    "ax = df_high_dis.plot(kind='scatter', x='medv', y='crim', color='Blue', label='High Dist')\n",
    "df_low_dis.plot(kind='scatter', x='medv', y='crim', color='Orange', label='Low Dist', ax=ax)\n",
    "\n"
   ]
  },
  {
   "cell_type": "markdown",
   "metadata": {},
   "source": [
    "There may be a correlation between property tax and pupil to teacher ratio and lower status of the population percents."
   ]
  },
  {
   "cell_type": "code",
   "execution_count": 73,
   "metadata": {},
   "outputs": [
    {
     "name": "stdout",
     "output_type": "stream",
     "text": [
      "pupil to teacher ratio\n",
      "High Distance Mean: 19.191017964071808\n",
      "High Distance Std: 1.9970106076696796\n",
      "Low Distance Mean: 17.700602409638535\n",
      "Low Distance Std: 2.0454382945279552\n",
      "\n",
      "Property Tax\n",
      "High Distance Mean: 496.9820359281437\n",
      "High Distance Std: 175.38472248222573\n",
      "Low Distance Mean: 321.04819277108436\n",
      "Low Distance Std: 110.29331731886104\n"
     ]
    },
    {
     "data": {
      "text/plain": [
       "<matplotlib.axes._subplots.AxesSubplot at 0x1274fbd50>"
      ]
     },
     "execution_count": 73,
     "metadata": {},
     "output_type": "execute_result"
    },
    {
     "data": {
      "text/plain": [
       "<Figure size 432x288 with 0 Axes>"
      ]
     },
     "metadata": {},
     "output_type": "display_data"
    },
    {
     "data": {
      "image/png": "[encoded data removed]",
      "text/plain": [
       "<Figure size 432x288 with 1 Axes>"
      ]
     },
     "metadata": {
      "needs_background": "light"
     },
     "output_type": "display_data"
    }
   ],
   "source": [
    "lstat_med = df['lstat'].median()\n",
    "\n",
    "df_high_lstat = df.loc[df['lstat'] >= lstat_med, ['ptratio', 'tax']].copy()\n",
    "df_low_lstat = df.loc[df['lstat'] < lstat_med, ['ptratio', 'tax']].copy()\n",
    "\n",
    "# pupil to teacher ratio\n",
    "print('pupil to teacher ratio')\n",
    "print('High Distance Mean:', df_high_lstat['ptratio'].mean())\n",
    "print('High Distance Std:',df_high_lstat['ptratio'].std())\n",
    "print('Low Distance Mean:',df_low_lstat['ptratio'].mean())\n",
    "print('Low Distance Std:',df_low_lstat['ptratio'].std())\n",
    "\n",
    "print()\n",
    "\n",
    "# Tax\n",
    "print('Property Tax')\n",
    "print('High Distance Mean:', df_high_lstat['tax'].mean())\n",
    "print('High Distance Std:',df_high_lstat['tax'].std())\n",
    "print('Low Distance Mean:',df_low_lstat['tax'].mean())\n",
    "print('Low Distance Std:',df_low_lstat['tax'].std())\n",
    "\n",
    "\n",
    "\n",
    "plt.figure()\n",
    "ax = df_high_lstat.plot(kind='scatter', x='tax', y='ptratio', color='Blue', label='High lstat')\n",
    "df_low_lstat.plot(kind='scatter', x='tax', y='ptratio', color='Orange', label='Low lstat', ax=ax)\n",
    "\n"
   ]
  },
  {
   "cell_type": "code",
   "execution_count": null,
   "metadata": {},
   "outputs": [],
   "source": []
  }
 ],
 "metadata": {
  "kernelspec": {
   "display_name": "Python 3",
   "language": "python",
   "name": "python3"
  },
  "language_info": {
   "codemirror_mode": {
    "name": "ipython",
    "version": 3
   },
   "file_extension": ".py",
   "mimetype": "text/x-python",
   "name": "python",
   "nbconvert_exporter": "python",
   "pygments_lexer": "ipython3",
   "version": "3.7.4"
  }
 },
 "nbformat": 4,
 "nbformat_minor": 2
}
